{
 "cells": [
  {
   "cell_type": "markdown",
   "metadata": {},
   "source": [
    "4/25/19\n",
    "Pandas on ccs and lima score report csv files\n",
    "Main goal: combine the two csv files, with the rows (indices) being the ZMW hole numbers"
   ]
  },
  {
   "cell_type": "code",
   "execution_count": 2,
   "metadata": {},
   "outputs": [],
   "source": [
    "import numpy as np\n",
    "import pandas as pd\n",
    "df_ccs = pd.read_csv('/Users/catherineanderson/Desktop/bam_table.csv')\n",
    "df_ccs.set_index('ZMW hole number')\n",
    "\n",
    "df_lima = pd.read_csv('/Users/catherineanderson/Desktop/score_report_span_0.csv')\n",
    "df_lima.set_index('ZMW hole number')\n",
    "\n",
    "\n",
    "\n",
    "a = 1\n",
    "\n"
   ]
  },
  {
   "cell_type": "code",
   "execution_count": 3,
   "metadata": {},
   "outputs": [],
   "source": [
    "df_combo = pd.concat([df_ccs, df_lima],sort = False)#,keys = ['ZMW hole number'], sort = False)\n",
    "#df_combo.set_index('ZMW hole number')\n",
    "a = 1"
   ]
  },
  {
   "cell_type": "code",
   "execution_count": 4,
   "metadata": {},
   "outputs": [],
   "source": [
    "df_combo.set_index('ZMW hole number')\n",
    "a = 1"
   ]
  },
  {
   "cell_type": "code",
   "execution_count": 5,
   "metadata": {},
   "outputs": [],
   "source": [
    "df_combo.to_csv('/Users/catherineanderson/Documents/Research_Spring_2019/ccs_lima_combo.csv', index = False)"
   ]
  },
  {
   "cell_type": "code",
   "execution_count": null,
   "metadata": {},
   "outputs": [],
   "source": [
    "#df_combo"
   ]
  }
 ],
 "metadata": {
  "kernelspec": {
   "display_name": "Python 3",
   "language": "python",
   "name": "python3"
  },
  "language_info": {
   "codemirror_mode": {
    "name": "ipython",
    "version": 3
   },
   "file_extension": ".py",
   "mimetype": "text/x-python",
   "name": "python",
   "nbconvert_exporter": "python",
   "pygments_lexer": "ipython3",
   "version": "3.7.0"
  }
 },
 "nbformat": 4,
 "nbformat_minor": 2
}
